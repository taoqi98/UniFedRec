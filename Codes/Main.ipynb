{
 "cells": [
  {
   "cell_type": "code",
   "execution_count": 1,
   "metadata": {},
   "outputs": [
    {
     "name": "stdout",
     "output_type": "stream",
     "text": [
      "WARNING:tensorflow:Deprecation warnings have been disabled. Set TF_ENABLE_DEPRECATION_WARNINGS=1 to re-enable them.\n"
     ]
    },
    {
     "name": "stderr",
     "output_type": "stream",
     "text": [
      "Using TensorFlow backend.\n"
     ]
    }
   ],
   "source": [
    "import os\n",
    "os.environ[\"CUDA_VISIBLE_DEVICES\"] = \"2\"\n",
    "import tensorflow as tf\n",
    "import keras.backend.tensorflow_backend as KTF\n",
    " \n",
    "config = tf.ConfigProto()  \n",
    "config.gpu_options.allow_growth=True  \n",
    "session = tf.Session(config=config)\n",
    " \n",
    "KTF.set_session(session)"
   ]
  },
  {
   "cell_type": "code",
   "execution_count": 2,
   "metadata": {},
   "outputs": [],
   "source": [
    "from preprocess import *\n",
    "from utils import *\n",
    "from generator import *\n",
    "from hypers import *\n",
    "from models import *\n",
    "from evaluation import *\n",
    "from fedtrain import *"
   ]
  },
  {
   "cell_type": "code",
   "execution_count": null,
   "metadata": {},
   "outputs": [],
   "source": []
  },
  {
   "cell_type": "code",
   "execution_count": 3,
   "metadata": {
    "scrolled": true
   },
   "outputs": [],
   "source": [
    "news_index = read_news(data_root_path,'docs_train_dev.tsv')"
   ]
  },
  {
   "cell_type": "code",
   "execution_count": 4,
   "metadata": {},
   "outputs": [],
   "source": [
    "train_session = read_train_clickhistory(news_index,data_root_path,'train_sam2.tsv')"
   ]
  },
  {
   "cell_type": "code",
   "execution_count": 5,
   "metadata": {},
   "outputs": [],
   "source": [
    "test_session = read_test_clickhistory(news_index,data_root_path,'val_sam2.tsv')"
   ]
  },
  {
   "cell_type": "code",
   "execution_count": 6,
   "metadata": {
    "scrolled": true
   },
   "outputs": [],
   "source": [
    "train_user = parse_user(news_index,train_session)"
   ]
  },
  {
   "cell_type": "code",
   "execution_count": 7,
   "metadata": {},
   "outputs": [],
   "source": [
    "test_user = parse_user(news_index,test_session)"
   ]
  },
  {
   "cell_type": "code",
   "execution_count": 8,
   "metadata": {},
   "outputs": [],
   "source": [
    "train_sess, train_user_id, train_label, train_true_user_ids = get_train_input(news_index,train_session)"
   ]
  },
  {
   "cell_type": "code",
   "execution_count": 9,
   "metadata": {},
   "outputs": [],
   "source": [
    "test_impressions, test_userids = get_test_input(news_index,test_session)"
   ]
  },
  {
   "cell_type": "code",
   "execution_count": 10,
   "metadata": {},
   "outputs": [],
   "source": [
    "news_scoring,normalized_news_scoring = load_rank_model_news_emb(news_index,data_root_path)"
   ]
  },
  {
   "cell_type": "code",
   "execution_count": 11,
   "metadata": {},
   "outputs": [],
   "source": [
    "train_user_dict = get_client_data_dict(train_true_user_ids)"
   ]
  },
  {
   "cell_type": "code",
   "execution_count": 12,
   "metadata": {},
   "outputs": [],
   "source": [
    "training_data = [news_scoring,train_user_dict,train_user,train_user_id,train_sess,train_label,32]"
   ]
  },
  {
   "cell_type": "markdown",
   "metadata": {},
   "source": [
    "# Federated Training"
   ]
  },
  {
   "cell_type": "code",
   "execution_count": null,
   "metadata": {},
   "outputs": [],
   "source": []
  },
  {
   "cell_type": "code",
   "execution_count": null,
   "metadata": {},
   "outputs": [],
   "source": []
  },
  {
   "cell_type": "code",
   "execution_count": 13,
   "metadata": {
    "scrolled": true
   },
   "outputs": [
    {
     "name": "stdout",
     "output_type": "stream",
     "text": [
      "WARNING:tensorflow:From /home/qit16/miniconda3/envs/qt_keras/lib/python3.6/site-packages/keras/backend/tensorflow_backend.py:74: The name tf.get_default_graph is deprecated. Please use tf.compat.v1.get_default_graph instead.\n",
      "\n",
      "WARNING:tensorflow:From /home/qit16/miniconda3/envs/qt_keras/lib/python3.6/site-packages/keras/backend/tensorflow_backend.py:517: The name tf.placeholder is deprecated. Please use tf.compat.v1.placeholder instead.\n",
      "\n",
      "WARNING:tensorflow:From /home/qit16/miniconda3/envs/qt_keras/lib/python3.6/site-packages/keras/backend/tensorflow_backend.py:133: The name tf.placeholder_with_default is deprecated. Please use tf.compat.v1.placeholder_with_default instead.\n",
      "\n",
      "WARNING:tensorflow:From /home/qit16/miniconda3/envs/qt_keras/lib/python3.6/site-packages/keras/backend/tensorflow_backend.py:4138: The name tf.random_uniform is deprecated. Please use tf.random.uniform instead.\n",
      "\n",
      "WARNING:tensorflow:From /home/qit16/miniconda3/envs/qt_keras/lib/python3.6/site-packages/keras/optimizers.py:790: The name tf.train.Optimizer is deprecated. Please use tf.compat.v1.train.Optimizer instead.\n",
      "\n",
      "WARNING:tensorflow:From /home/qit16/miniconda3/envs/qt_keras/lib/python3.6/site-packages/keras/backend/tensorflow_backend.py:3295: The name tf.log is deprecated. Please use tf.math.log instead.\n",
      "\n",
      "WARNING:tensorflow:From /home/qit16/miniconda3/envs/qt_keras/lib/python3.6/site-packages/keras/backend/tensorflow_backend.py:174: The name tf.get_default_session is deprecated. Please use tf.compat.v1.get_default_session instead.\n",
      "\n",
      "WARNING:tensorflow:From /home/qit16/miniconda3/envs/qt_keras/lib/python3.6/site-packages/keras/backend/tensorflow_backend.py:190: The name tf.global_variables is deprecated. Please use tf.compat.v1.global_variables instead.\n",
      "\n",
      "WARNING:tensorflow:From /home/qit16/miniconda3/envs/qt_keras/lib/python3.6/site-packages/keras/backend/tensorflow_backend.py:199: The name tf.is_variable_initialized is deprecated. Please use tf.compat.v1.is_variable_initialized instead.\n",
      "\n",
      "WARNING:tensorflow:From /home/qit16/miniconda3/envs/qt_keras/lib/python3.6/site-packages/keras/backend/tensorflow_backend.py:206: The name tf.variables_initializer is deprecated. Please use tf.compat.v1.variables_initializer instead.\n",
      "\n",
      "WARNING:tensorflow:From /home/qit16/miniconda3/envs/qt_keras/lib/python3.6/site-packages/keras/backend/tensorflow_backend.py:986: The name tf.assign_add is deprecated. Please use tf.compat.v1.assign_add instead.\n",
      "\n",
      "WARNING:tensorflow:From /home/qit16/miniconda3/envs/qt_keras/lib/python3.6/site-packages/keras/backend/tensorflow_backend.py:973: The name tf.assign is deprecated. Please use tf.compat.v1.assign instead.\n",
      "\n",
      "0\n",
      "1\n",
      "2\n",
      "3\n",
      "4\n",
      "5\n",
      "6\n",
      "7\n",
      "8\n",
      "9\n",
      "10\n",
      "11\n",
      "12\n",
      "13\n",
      "14\n",
      "15\n",
      "16\n",
      "17\n",
      "18\n",
      "19\n",
      "20\n",
      "21\n",
      "22\n",
      "23\n",
      "{100: 0.0, 200: 0.0, 300: 0.0, 400: 0.0, 500: 0.0}\n",
      "{100: 0.0, 200: 0.0, 300: 0.0, 400: 0.0, 500: 0.0}\n",
      "\n",
      "{100: 3.610000555277917, 200: 5.9792920999817545, 300: 5.9792920999817545, 400: 6.029267112475508, 500: 6.086381412468368}\n",
      "{100: 0.028961792913670292, 200: 0.0851620038271365, 300: 0.31515011790643965, 400: 0.4119147086003405, 500: 0.41795100011265074}\n",
      "\n",
      "{100: 3.2940673561768286, 200: 5.651841008001968, 300: 5.66017225852267, 400: 5.722656637427944, 500: 5.751220924927498}\n",
      "{100: 0.045762986024356835, 200: 0.0982434396918514, 300: 0.3370299200445623, 400: 0.4567938775702299, 500: 0.4818513777012439}\n",
      "\n",
      "{100: 3.3403301229496862, 200: 5.626635579976689, 300: 5.632190209760615, 400: 5.682181877815939, 500: 5.709558267465283}\n",
      "{100: 0.04691891088548941, 200: 0.1055989919595555, 300: 0.36434997540088954, 400: 0.48393555508116237, 500: 0.5232683665072193}\n",
      "\n",
      "{100: 3.376736097021061, 200: 5.52689887429295, 300: 5.531065020191379, 400: 5.570122637989154, 500: 5.596384236241755}\n",
      "{100: 0.042117007178924984, 200: 0.1026301932162241, 300: 0.3810002074250973, 400: 0.49649529354522703, 500: 0.5328076144382992}\n",
      "\n",
      "24\n",
      "{100: 3.46473088023088, 200: 5.650818542568542, 300: 5.659151875901876, 400: 5.690401875901876, 500: 5.731413780663781} {100: 0.03698041836618589, 200: 0.10345893990605298, 300: 0.36183611013140415, 400: 0.47500961681025966, 500: 0.50909492766797}\n",
      "24\n",
      "25\n",
      "26\n",
      "27\n",
      "28\n",
      "29\n",
      "30\n",
      "31\n",
      "32\n",
      "33\n",
      "34\n",
      "35\n",
      "36\n",
      "37\n",
      "38\n",
      "39\n",
      "40\n",
      "41\n",
      "42\n",
      "43\n",
      "44\n",
      "45\n",
      "46\n",
      "47\n",
      "48\n",
      "{100: 0.0, 200: 0.0, 300: 0.0, 400: 0.0, 500: 0.0}\n",
      "{100: 0.0, 200: 0.0, 300: 0.0, 400: 0.0, 500: 0.0}\n",
      "\n",
      "{100: 3.2460158809484145, 200: 5.9792920999817545, 300: 5.9792920999817545, 400: 6.0792421249692605, 500: 6.086381412468368}\n",
      "{100: 0.02789177065720736, 200: 0.08246610359656756, 300: 0.3896514876306075, 400: 0.3906787089968119, 500: 0.42033119794903323}\n",
      "\n",
      "{100: 2.9433217092552257, 200: 5.651841008001968, 300: 5.651841008001968, 400: 5.747650388990054, 500: 5.751220924927498}\n",
      "{100: 0.0452281122545665, 200: 0.09539818909307064, 300: 0.43664064031069216, 400: 0.44023666151763446, 500: 0.4842033389793868}\n",
      "\n",
      "{100: 2.9849853066816907, 200: 5.626635579976689, 300: 5.626635579976689, 400: 5.707177711843601, 500: 5.709558267465283}\n",
      "{100: 0.046122571629588806, 200: 0.10133703834368257, 300: 0.4668688711339516, 400: 0.4704600626045301, 500: 0.5237672923004354}\n",
      "\n",
      "{100: 3.059181094426689, 200: 5.52689887429295, 300: 5.52689887429295, 400: 5.594598745142427, 500: 5.596384236241755}\n",
      "{100: 0.041518958549734926, 200: 0.10152346480384478, 300: 0.4829009062279638, 400: 0.4861178679766225, 500: 0.5321976851580817}\n",
      "\n",
      "49\n",
      "{100: 3.138226551226551, 200: 5.650818542568542, 300: 5.650818542568542, 400: 5.729985209235209, 500: 5.731413780663781} {100: 0.03650209025817478, 200: 0.09497158412894696, 300: 0.4603979179252785, 400: 0.4644508696088548, 500: 0.5124047486863527}\n",
      "49\n",
      "50\n",
      "51\n",
      "52\n",
      "53\n",
      "54\n",
      "55\n",
      "56\n",
      "57\n",
      "58\n",
      "59\n",
      "60\n",
      "61\n",
      "62\n",
      "63\n",
      "64\n",
      "65\n",
      "66\n",
      "67\n",
      "68\n",
      "69\n",
      "70\n",
      "71\n",
      "72\n",
      "73\n",
      "{100: 0.0, 200: 0.0, 300: 0.0, 400: 0.0, 500: 0.0}\n",
      "{100: 0.0, 200: 0.0, 300: 0.0, 400: 0.0, 500: 0.0}\n",
      "\n",
      "{100: 3.2460158809484145, 200: 5.9792920999817545, 300: 5.9792920999817545, 400: 6.0792421249692605, 500: 6.0792421249692605}\n",
      "{100: 0.02789177065720736, 200: 0.07818601457071583, 300: 0.3896514876306075, 400: 0.3906787089968119, 500: 0.4111499863674062}\n",
      "\n",
      "{100: 2.9433217092552257, 200: 5.651841008001968, 300: 5.651841008001968, 400: 5.747650388990054, 500: 5.747650388990054}\n",
      "{100: 0.0452281122545665, 200: 0.09325869401390931, 300: 0.43460482845459786, 400: 0.4434154337671287, 500: 0.46749080207588045}\n",
      "\n",
      "{100: 2.9849853066816907, 200: 5.626635579976689, 300: 5.626635579976689, 400: 5.707177711843601, 500: 5.707177711843601}\n",
      "{100: 0.046122571629588806, 200: 0.1019184052290248, 300: 0.46551015160353915, 400: 0.48338618896973506, 500: 0.5092364642749979}\n",
      "\n",
      "{100: 3.059181094426689, 200: 5.52689887429295, 300: 5.52689887429295, 400: 5.594598745142427, 500: 5.594598745142427}\n",
      "{100: 0.041518958549734926, 200: 0.10196006976367712, 300: 0.4800421748593881, 400: 0.49590137538727413, 500: 0.5241376069899127}\n",
      "\n",
      "74\n",
      "{100: 3.138226551226551, 200: 5.650818542568542, 300: 5.650818542568542, 400: 5.729985209235209, 500: 5.729985209235209} {100: 0.03650209025817478, 200: 0.09557809474472065, 300: 0.45833044757835245, 400: 0.47390382800536374, 500: 0.500633294805824}\n",
      "74\n",
      "75\n",
      "76\n",
      "77\n",
      "78\n",
      "79\n",
      "80\n",
      "81\n",
      "82\n",
      "83\n",
      "84\n",
      "85\n",
      "86\n",
      "87\n",
      "88\n",
      "89\n",
      "90\n",
      "91\n",
      "92\n",
      "93\n",
      "94\n",
      "95\n",
      "96\n",
      "97\n",
      "98\n",
      "{100: 0.0, 200: 0.0, 300: 0.0, 400: 0.0, 500: 0.0}\n",
      "{100: 0.0, 200: 0.0, 300: 0.0, 400: 0.0, 500: 0.0}\n",
      "\n",
      "{100: 3.2460158809484145, 200: 5.9792920999817545, 300: 5.9792920999817545, 400: 6.0792421249692605, 500: 6.0792421249692605}\n",
      "{100: 0.02657482018771452, 200: 0.07601333338636833, 300: 0.3883345371611146, 400: 0.3906787089968119, 500: 0.4050792654049662}\n",
      "\n",
      "{100: 2.9433217092552257, 200: 5.651841008001968, 300: 5.651841008001968, 400: 5.747650388990054, 500: 5.747650388990054}\n",
      "{100: 0.043741614432816704, 200: 0.09319375497959562, 300: 0.4339465222763944, 400: 0.4434154337671287, 500: 0.45837782475861627}\n",
      "\n",
      "{100: 2.9849853066816907, 200: 5.626635579976689, 300: 5.634967524652577, 400: 5.707177711843601, 500: 5.707177711843601}\n",
      "{100: 0.045130469330802746, 200: 0.10190152767861156, 300: 0.46086146086848784, 400: 0.4868131937675418, 500: 0.5022902556504817}\n",
      "\n",
      "{100: 3.059181094426689, 200: 5.52689887429295, 300: 5.5331480931405945, 400: 5.594598745142427, 500: 5.594598745142427}\n",
      "{100: 0.040773892404359115, 200: 0.09873702446110538, 300: 0.47680838781399376, 400: 0.49932259155919345, 500: 0.517114200754009}\n",
      "\n",
      "99\n",
      "{100: 3.138226551226551, 200: 5.650818542568542, 300: 5.655818542568542, 400: 5.729985209235209, 500: 5.729985209235209} {100: 0.03590617537388953, 200: 0.0924631456791498, 300: 0.45481695312889425, 400: 0.47743188261263964, 500: 0.4935728766757339}\n",
      "99\n"
     ]
    },
    {
     "name": "stdout",
     "output_type": "stream",
     "text": [
      "100\n",
      "101\n",
      "102\n",
      "103\n",
      "104\n",
      "105\n",
      "106\n",
      "107\n",
      "108\n",
      "109\n",
      "110\n",
      "111\n",
      "112\n",
      "113\n",
      "114\n",
      "115\n",
      "116\n",
      "117\n",
      "118\n",
      "119\n",
      "120\n",
      "121\n",
      "122\n",
      "123\n",
      "{100: 0.0, 200: 0.0, 300: 0.0, 400: 0.0, 500: 0.0}\n",
      "{100: 0.0, 200: 0.0, 300: 0.0, 400: 0.0, 500: 0.0}\n",
      "\n",
      "{100: 3.2460158809484145, 200: 5.754404543759866, 300: 5.9792920999817545, 400: 6.0792421249692605, 500: 6.404079706178656}\n",
      "{100: 0.02657482018771452, 200: 0.0955735400351835, 300: 0.38936175852731897, 400: 0.392449780317854, 500: 0.3985978224828453}\n",
      "\n",
      "{100: 2.9433217092552257, 200: 5.364412865037709, 300: 5.651841008001968, 400: 5.747650388990054, 500: 6.105894161380289}\n",
      "{100: 0.043741614432816704, 200: 0.10932050529363231, 300: 0.4344600010953931, 400: 0.4463332624009504, 500: 0.45601197328514126}\n",
      "\n",
      "{100: 2.9849853066816907, 200: 5.361275766208276, 300: 5.634967524652577, 400: 5.707177711843601, 500: 6.0196256371893755}\n",
      "{100: 0.045130469330802746, 200: 0.11831619902968307, 300: 0.46084718168183025, 400: 0.4926363586317952, 500: 0.49981122017007507}\n",
      "\n",
      "{100: 3.059181094426689, 200: 5.283084654100777, 300: 5.5331480931405945, 400: 5.594598745142427, 500: 5.908101223999237}\n",
      "{100: 0.04046750295886273, 200: 0.1169793377800479, 300: 0.47679766418340147, 400: 0.5059150767308568, 500: 0.5139379839950768}\n",
      "\n",
      "124\n",
      "{100: 3.138226551226551, 200: 5.395742784992785, 300: 5.655818542568542, 400: 5.729985209235209, 500: 6.029151875901875} {100: 0.03566112057963753, 200: 0.10794284916105422, 300: 0.4548125771504255, 400: 0.4827046494167767, 500: 0.4908154858524631}\n",
      "124\n",
      "125\n",
      "126\n",
      "127\n",
      "128\n",
      "129\n",
      "130\n",
      "131\n",
      "132\n",
      "133\n",
      "135\n",
      "136\n",
      "137\n",
      "138\n"
     ]
    },
    {
     "ename": "KeyboardInterrupt",
     "evalue": "",
     "output_type": "error",
     "traceback": [
      "\u001b[0;31m---------------------------------------------------------------------------\u001b[0m",
      "\u001b[0;31mKeyboardInterrupt\u001b[0m                         Traceback (most recent call last)",
      "\u001b[0;32m<ipython-input-13-350b368bc875>\u001b[0m in \u001b[0;36m<module>\u001b[0;34m\u001b[0m\n\u001b[1;32m     28\u001b[0m \u001b[0;34m\u001b[0m\u001b[0m\n\u001b[1;32m     29\u001b[0m     \u001b[0;32mfor\u001b[0m \u001b[0mstep\u001b[0m \u001b[0;32min\u001b[0m \u001b[0mrange\u001b[0m\u001b[0;34m(\u001b[0m\u001b[0;36m200\u001b[0m\u001b[0;34m)\u001b[0m\u001b[0;34m:\u001b[0m\u001b[0;34m\u001b[0m\u001b[0;34m\u001b[0m\u001b[0m\n\u001b[0;32m---> 30\u001b[0;31m         \u001b[0mFedTrain_singlev2\u001b[0m\u001b[0;34m(\u001b[0m\u001b[0muser_num\u001b[0m\u001b[0;34m,\u001b[0m\u001b[0mlambd\u001b[0m\u001b[0;34m,\u001b[0m\u001b[0mcluster_distance\u001b[0m\u001b[0;34m,\u001b[0m\u001b[0mall_models\u001b[0m\u001b[0;34m,\u001b[0m\u001b[0mtraining_data\u001b[0m\u001b[0;34m)\u001b[0m\u001b[0;34m\u001b[0m\u001b[0;34m\u001b[0m\u001b[0m\n\u001b[0m\u001b[1;32m     31\u001b[0m \u001b[0;34m\u001b[0m\u001b[0m\n\u001b[1;32m     32\u001b[0m         \u001b[0;32mif\u001b[0m \u001b[0;34m(\u001b[0m\u001b[0mstep\u001b[0m\u001b[0;34m+\u001b[0m\u001b[0;36m1\u001b[0m\u001b[0;34m)\u001b[0m\u001b[0;34m%\u001b[0m\u001b[0;36m25\u001b[0m\u001b[0;34m==\u001b[0m\u001b[0;36m0\u001b[0m\u001b[0;34m:\u001b[0m\u001b[0;34m\u001b[0m\u001b[0;34m\u001b[0m\u001b[0m\n",
      "\u001b[0;32m~/UniFedRec/Codes/fedtrain.py\u001b[0m in \u001b[0;36mFedTrain_singlev2\u001b[0;34m(user_num, lambd, cluster_distance, all_models, training_data)\u001b[0m\n\u001b[1;32m    109\u001b[0m \u001b[0;34m\u001b[0m\u001b[0m\n\u001b[1;32m    110\u001b[0m     \u001b[0;32mif\u001b[0m \u001b[0mlambd\u001b[0m \u001b[0;34m>\u001b[0m\u001b[0;36m0\u001b[0m\u001b[0;34m:\u001b[0m\u001b[0;34m\u001b[0m\u001b[0;34m\u001b[0m\u001b[0m\n\u001b[0;32m--> 111\u001b[0;31m         \u001b[0mnow_weights\u001b[0m \u001b[0;34m=\u001b[0m \u001b[0;34m[\u001b[0m\u001b[0mnp\u001b[0m\u001b[0;34m.\u001b[0m\u001b[0maverage\u001b[0m\u001b[0;34m(\u001b[0m\u001b[0mweights\u001b[0m\u001b[0;34m,\u001b[0m \u001b[0maxis\u001b[0m\u001b[0;34m=\u001b[0m\u001b[0;36m0\u001b[0m\u001b[0;34m)\u001b[0m\u001b[0;34m+\u001b[0m \u001b[0mnp\u001b[0m\u001b[0;34m.\u001b[0m\u001b[0mrandom\u001b[0m\u001b[0;34m.\u001b[0m\u001b[0mlaplace\u001b[0m\u001b[0;34m(\u001b[0m\u001b[0;36m0\u001b[0m\u001b[0;34m,\u001b[0m\u001b[0mlambd\u001b[0m\u001b[0;34m,\u001b[0m\u001b[0msize\u001b[0m\u001b[0;34m=\u001b[0m\u001b[0;34m[\u001b[0m\u001b[0muser_num\u001b[0m\u001b[0;34m]\u001b[0m\u001b[0;34m+\u001b[0m\u001b[0mlist\u001b[0m\u001b[0;34m(\u001b[0m\u001b[0mweights\u001b[0m\u001b[0;34m[\u001b[0m\u001b[0;36m0\u001b[0m\u001b[0;34m]\u001b[0m\u001b[0;34m.\u001b[0m\u001b[0mshape\u001b[0m\u001b[0;34m)\u001b[0m\u001b[0;34m)\u001b[0m\u001b[0;34m.\u001b[0m\u001b[0mmean\u001b[0m\u001b[0;34m(\u001b[0m\u001b[0maxis\u001b[0m\u001b[0;34m=\u001b[0m\u001b[0;36m0\u001b[0m\u001b[0;34m)\u001b[0m \u001b[0;32mfor\u001b[0m \u001b[0mweights\u001b[0m \u001b[0;32min\u001b[0m \u001b[0mzip\u001b[0m\u001b[0;34m(\u001b[0m\u001b[0;34m*\u001b[0m\u001b[0mall_weights\u001b[0m\u001b[0;34m)\u001b[0m\u001b[0;34m]\u001b[0m\u001b[0;34m\u001b[0m\u001b[0;34m\u001b[0m\u001b[0m\n\u001b[0m\u001b[1;32m    112\u001b[0m     \u001b[0;32melse\u001b[0m\u001b[0;34m:\u001b[0m\u001b[0;34m\u001b[0m\u001b[0;34m\u001b[0m\u001b[0m\n\u001b[1;32m    113\u001b[0m         \u001b[0mnow_weights\u001b[0m \u001b[0;34m=\u001b[0m \u001b[0;34m[\u001b[0m\u001b[0mnp\u001b[0m\u001b[0;34m.\u001b[0m\u001b[0maverage\u001b[0m\u001b[0;34m(\u001b[0m\u001b[0mweights\u001b[0m\u001b[0;34m,\u001b[0m \u001b[0maxis\u001b[0m\u001b[0;34m=\u001b[0m\u001b[0;36m0\u001b[0m\u001b[0;34m)\u001b[0m \u001b[0;32mfor\u001b[0m \u001b[0mweights\u001b[0m \u001b[0;32min\u001b[0m \u001b[0mzip\u001b[0m\u001b[0;34m(\u001b[0m\u001b[0;34m*\u001b[0m\u001b[0mall_weights\u001b[0m\u001b[0;34m)\u001b[0m\u001b[0;34m]\u001b[0m\u001b[0;34m\u001b[0m\u001b[0;34m\u001b[0m\u001b[0m\n",
      "\u001b[0;32m~/UniFedRec/Codes/fedtrain.py\u001b[0m in \u001b[0;36m<listcomp>\u001b[0;34m(.0)\u001b[0m\n\u001b[1;32m    109\u001b[0m \u001b[0;34m\u001b[0m\u001b[0m\n\u001b[1;32m    110\u001b[0m     \u001b[0;32mif\u001b[0m \u001b[0mlambd\u001b[0m \u001b[0;34m>\u001b[0m\u001b[0;36m0\u001b[0m\u001b[0;34m:\u001b[0m\u001b[0;34m\u001b[0m\u001b[0;34m\u001b[0m\u001b[0m\n\u001b[0;32m--> 111\u001b[0;31m         \u001b[0mnow_weights\u001b[0m \u001b[0;34m=\u001b[0m \u001b[0;34m[\u001b[0m\u001b[0mnp\u001b[0m\u001b[0;34m.\u001b[0m\u001b[0maverage\u001b[0m\u001b[0;34m(\u001b[0m\u001b[0mweights\u001b[0m\u001b[0;34m,\u001b[0m \u001b[0maxis\u001b[0m\u001b[0;34m=\u001b[0m\u001b[0;36m0\u001b[0m\u001b[0;34m)\u001b[0m\u001b[0;34m+\u001b[0m \u001b[0mnp\u001b[0m\u001b[0;34m.\u001b[0m\u001b[0mrandom\u001b[0m\u001b[0;34m.\u001b[0m\u001b[0mlaplace\u001b[0m\u001b[0;34m(\u001b[0m\u001b[0;36m0\u001b[0m\u001b[0;34m,\u001b[0m\u001b[0mlambd\u001b[0m\u001b[0;34m,\u001b[0m\u001b[0msize\u001b[0m\u001b[0;34m=\u001b[0m\u001b[0;34m[\u001b[0m\u001b[0muser_num\u001b[0m\u001b[0;34m]\u001b[0m\u001b[0;34m+\u001b[0m\u001b[0mlist\u001b[0m\u001b[0;34m(\u001b[0m\u001b[0mweights\u001b[0m\u001b[0;34m[\u001b[0m\u001b[0;36m0\u001b[0m\u001b[0;34m]\u001b[0m\u001b[0;34m.\u001b[0m\u001b[0mshape\u001b[0m\u001b[0;34m)\u001b[0m\u001b[0;34m)\u001b[0m\u001b[0;34m.\u001b[0m\u001b[0mmean\u001b[0m\u001b[0;34m(\u001b[0m\u001b[0maxis\u001b[0m\u001b[0;34m=\u001b[0m\u001b[0;36m0\u001b[0m\u001b[0;34m)\u001b[0m \u001b[0;32mfor\u001b[0m \u001b[0mweights\u001b[0m \u001b[0;32min\u001b[0m \u001b[0mzip\u001b[0m\u001b[0;34m(\u001b[0m\u001b[0;34m*\u001b[0m\u001b[0mall_weights\u001b[0m\u001b[0;34m)\u001b[0m\u001b[0;34m]\u001b[0m\u001b[0;34m\u001b[0m\u001b[0;34m\u001b[0m\u001b[0m\n\u001b[0m\u001b[1;32m    112\u001b[0m     \u001b[0;32melse\u001b[0m\u001b[0;34m:\u001b[0m\u001b[0;34m\u001b[0m\u001b[0;34m\u001b[0m\u001b[0m\n\u001b[1;32m    113\u001b[0m         \u001b[0mnow_weights\u001b[0m \u001b[0;34m=\u001b[0m \u001b[0;34m[\u001b[0m\u001b[0mnp\u001b[0m\u001b[0;34m.\u001b[0m\u001b[0maverage\u001b[0m\u001b[0;34m(\u001b[0m\u001b[0mweights\u001b[0m\u001b[0;34m,\u001b[0m \u001b[0maxis\u001b[0m\u001b[0;34m=\u001b[0m\u001b[0;36m0\u001b[0m\u001b[0;34m)\u001b[0m \u001b[0;32mfor\u001b[0m \u001b[0mweights\u001b[0m \u001b[0;32min\u001b[0m \u001b[0mzip\u001b[0m\u001b[0;34m(\u001b[0m\u001b[0;34m*\u001b[0m\u001b[0mall_weights\u001b[0m\u001b[0;34m)\u001b[0m\u001b[0;34m]\u001b[0m\u001b[0;34m\u001b[0m\u001b[0;34m\u001b[0m\u001b[0m\n",
      "\u001b[0;31mKeyboardInterrupt\u001b[0m: "
     ]
    }
   ],
   "source": [
    "History = {}\n",
    "Future = {}\n",
    "\n",
    "quick_evaluation = True\n",
    "\n",
    "lr = 1\n",
    "step_ratio = 0.01\n",
    "user_num = int(step_ratio*len(train_user_dict))\n",
    "clipvalue = 0.5\n",
    "clipvalue_infer = 1\n",
    "lambd_infer = 0.1\n",
    "cluster_distance = 0.5\n",
    "budget = 10\n",
    "\n",
    "lambd,sigma = convert(clipvalue,budget,user_num)\n",
    "\n",
    "History[step_ratio] = []\n",
    "Future[step_ratio] = []\n",
    "\n",
    "\n",
    "lambd,sigma = convert(clipvalue,budget,user_num)\n",
    "\n",
    "for repeat in range(10):\n",
    "    \n",
    "    model,user_model, user_vecs_model = create_model(lr,clipvalue)\n",
    "    all_models = [user_vecs_model,model]\n",
    "    Future[step_ratio].append([])\n",
    "    History[step_ratio].append([])\n",
    "\n",
    "\n",
    "    for step in range(100):\n",
    "        FedTrain_single(user_num,lambd,cluster_distance,all_models,training_data)\n",
    "\n",
    "        if (step+1)%25==0:\n",
    "            if quick_evaluation:\n",
    "                num = 10000\n",
    "                f,h = FedRec_Recall(lambd_infer,clipvalue_infer,cluster_distance,user_model,user_vecs_model,test_impressions[:num],test_user,news_scoring,normalized_news_scoring)\n",
    "            else:\n",
    "                f,h = FedRec_Recall(lambd_infer,clipvalue_infer,cluster_distance,user_model,user_vecs_model,test_impressions,test_user,news_scoring,normalized_news_scoring)\n",
    "            print(step)\n",
    "            print(f,h)\n",
    "            History[step_ratio][-1].append(h)\n",
    "            Future[step_ratio][-1].append(f)\n",
    "        print(step)\n",
    "        step += 1\n",
    "        "
   ]
  },
  {
   "cell_type": "code",
   "execution_count": null,
   "metadata": {},
   "outputs": [],
   "source": []
  },
  {
   "cell_type": "code",
   "execution_count": null,
   "metadata": {},
   "outputs": [],
   "source": []
  },
  {
   "cell_type": "code",
   "execution_count": null,
   "metadata": {},
   "outputs": [],
   "source": []
  },
  {
   "cell_type": "code",
   "execution_count": null,
   "metadata": {},
   "outputs": [],
   "source": []
  },
  {
   "cell_type": "code",
   "execution_count": null,
   "metadata": {},
   "outputs": [],
   "source": []
  }
 ],
 "metadata": {
  "kernelspec": {
   "display_name": "Python 3",
   "language": "python",
   "name": "python3"
  },
  "language_info": {
   "codemirror_mode": {
    "name": "ipython",
    "version": 3
   },
   "file_extension": ".py",
   "mimetype": "text/x-python",
   "name": "python",
   "nbconvert_exporter": "python",
   "pygments_lexer": "ipython3",
   "version": "3.6.15"
  }
 },
 "nbformat": 4,
 "nbformat_minor": 4
}
